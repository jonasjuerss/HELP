{
 "cells": [
  {
   "cell_type": "code",
   "execution_count": null,
   "metadata": {
    "collapsed": true,
    "pycharm": {
     "is_executing": true
    }
   },
   "outputs": [
    {
     "name": "stderr",
     "output_type": "stream",
     "text": [
      "0it [00:00, ?it/s]\n"
     ]
    },
    {
     "name": "stdout",
     "output_type": "stream",
     "text": [
      "Accuracy: 54.10%\n",
      "Accuracy: 62.50%\n",
      "Accuracy: 67.19%\n",
      "Accuracy: 45.31%\n",
      "Accuracy: 53.12%\n"
     ]
    }
   ],
   "source": [
    "from analyzer import Analyzer\n",
    "\n",
    "self = Analyzer(\"ctj1uzfo\", resume_last=False) # If resume_last False, use BEST checkpoint instead"
   ]
  },
  {
   "cell_type": "code",
   "execution_count": null,
   "outputs": [],
   "source": [
    "from sklearn.base import BaseEstimator\n",
    "from sklearn.decomposition import PCA\n",
    "from matplotlib import pyplot as plt\n",
    "import torch\n",
    "from sklearn.manifold import TSNE\n",
    "from clustering_wrappers import ClusterAlgWrapper\n",
    "from typing import Optional, Type\n",
    "\n",
    "\n",
    "def plot_clusters(self, cluster_alg: Optional[Type[ClusterAlgWrapper]] = None, save_path: Optional[str] = None, dim_reduc: Type[BaseEstimator] = TSNE, **cluster_alg_kwargs):\n",
    "    \"\"\"\n",
    "    :param cluster_alg: Type of a clustering algorithm to use. If provided, this will be fitted for every pooling layer\n",
    "    :return:\n",
    "    \"\"\"\n",
    "    pool_acts_train = self.train_info.pooling_activations\n",
    "    masks_train = [self.train_data.mask] + self.train_info.all_batch_or_mask\n",
    "    pool_acts_test = self.test_info.pooling_activations\n",
    "    masks_test = [self.test_data.mask] + self.test_info.all_batch_or_mask\n",
    "    for i in range(len(pool_acts_train)):\n",
    "        if cluster_alg is None:\n",
    "            if not hasattr(self.model.graph_network.pool_blocks[i], \"cluster_alg\"):\n",
    "                break\n",
    "            cluster_alg_used = self.model.graph_network.pool_blocks[i].cluster_alg\n",
    "        else:\n",
    "            cluster_alg_used = cluster_alg(**cluster_alg_kwargs)\n",
    "            cluster_alg_used.fit(pool_acts_train[i][masks_train[i]])\n",
    "\n",
    "        num_train_nodes = pool_acts_train[i][masks_train[i]].shape[0]\n",
    "        num_nodes = num_train_nodes + pool_acts_test[i][masks_test[i]].shape[0]\n",
    "        all_points = torch.cat((pool_acts_train[i][masks_train[i]], pool_acts_test[i][masks_test[i]], cluster_alg_used.centroids), dim=0).detach().cpu()\n",
    "        assignments = cluster_alg_used.predict(all_points).cpu()\n",
    "\n",
    "        coords = dim_reduc(n_components=2).fit_transform(X=all_points)\n",
    "\n",
    "        fig, ax = plt.subplots()\n",
    "        # o p s\n",
    "        ax.scatter(coords[:num_train_nodes, 0], coords[:num_train_nodes, 1],\n",
    "                   c=self.colors[assignments[:num_train_nodes]],\n",
    "                   marker='s', s=2, label=\"Train embeddings\")\n",
    "        ax.scatter(coords[num_train_nodes:num_nodes, 0], coords[num_train_nodes:num_nodes, 1],\n",
    "                   c=self.colors[assignments[num_train_nodes:num_nodes]],\n",
    "                   marker='p', s=2, label=\"Test embeddings\")\n",
    "        ax.scatter(coords[num_nodes:, 0], coords[num_nodes:, 1],\n",
    "                   c=self.colors[assignments[num_nodes:]],\n",
    "                   marker='o', s=10, label=\"Centroids\")\n",
    "        fig.show()\n",
    "        if save_path is not None:\n",
    "            fig.savefig(f\"{save_path}_{i}.pdf\", bbox_inches='tight')\n",
    "\n"
   ],
   "metadata": {
    "collapsed": false
   }
  },
  {
   "cell_type": "code",
   "execution_count": 3,
   "outputs": [
    {
     "ename": "TypeError",
     "evalue": "expected Tensor as element 2 in argument 0, but got NoneType",
     "output_type": "error",
     "traceback": [
      "\u001B[1;31m---------------------------------------------------------------------------\u001B[0m",
      "\u001B[1;31mTypeError\u001B[0m                                 Traceback (most recent call last)",
      "Cell \u001B[1;32mIn[3], line 1\u001B[0m\n\u001B[1;32m----> 1\u001B[0m \u001B[43mplot_clusters\u001B[49m\u001B[43m(\u001B[49m\u001B[38;5;28;43mself\u001B[39;49m\u001B[43m,\u001B[49m\u001B[43m \u001B[49m\u001B[43msave_path\u001B[49m\u001B[38;5;241;43m=\u001B[39;49m\u001B[38;5;124;43m\"\u001B[39;49m\u001B[38;5;124;43mimg/clusters\u001B[39;49m\u001B[38;5;124;43m\"\u001B[39;49m\u001B[43m)\u001B[49m\n",
      "Cell \u001B[1;32mIn[2], line 30\u001B[0m, in \u001B[0;36mplot_clusters\u001B[1;34m(self, cluster_alg, save_path, dim_reduc, **cluster_alg_kwargs)\u001B[0m\n\u001B[0;32m     28\u001B[0m num_train_nodes \u001B[38;5;241m=\u001B[39m pool_acts_train[i][masks_train[i]]\u001B[38;5;241m.\u001B[39mshape[\u001B[38;5;241m0\u001B[39m]\n\u001B[0;32m     29\u001B[0m num_nodes \u001B[38;5;241m=\u001B[39m num_train_nodes \u001B[38;5;241m+\u001B[39m pool_acts_test[i][masks_test[i]]\u001B[38;5;241m.\u001B[39mshape[\u001B[38;5;241m0\u001B[39m]\n\u001B[1;32m---> 30\u001B[0m all_points \u001B[38;5;241m=\u001B[39m \u001B[43mtorch\u001B[49m\u001B[38;5;241;43m.\u001B[39;49m\u001B[43mcat\u001B[49m\u001B[43m(\u001B[49m\u001B[43m(\u001B[49m\u001B[43mpool_acts_train\u001B[49m\u001B[43m[\u001B[49m\u001B[43mi\u001B[49m\u001B[43m]\u001B[49m\u001B[43m[\u001B[49m\u001B[43mmasks_train\u001B[49m\u001B[43m[\u001B[49m\u001B[43mi\u001B[49m\u001B[43m]\u001B[49m\u001B[43m]\u001B[49m\u001B[43m,\u001B[49m\u001B[43m \u001B[49m\u001B[43mpool_acts_test\u001B[49m\u001B[43m[\u001B[49m\u001B[43mi\u001B[49m\u001B[43m]\u001B[49m\u001B[43m[\u001B[49m\u001B[43mmasks_test\u001B[49m\u001B[43m[\u001B[49m\u001B[43mi\u001B[49m\u001B[43m]\u001B[49m\u001B[43m]\u001B[49m\u001B[43m,\u001B[49m\u001B[43m \u001B[49m\u001B[43mcluster_alg_used\u001B[49m\u001B[38;5;241;43m.\u001B[39;49m\u001B[43mcentroids\u001B[49m\u001B[43m)\u001B[49m\u001B[43m,\u001B[49m\u001B[43m \u001B[49m\u001B[43mdim\u001B[49m\u001B[38;5;241;43m=\u001B[39;49m\u001B[38;5;241;43m0\u001B[39;49m\u001B[43m)\u001B[49m\u001B[38;5;241m.\u001B[39mdetach()\u001B[38;5;241m.\u001B[39mcpu()\n\u001B[0;32m     31\u001B[0m assignments \u001B[38;5;241m=\u001B[39m cluster_alg_used\u001B[38;5;241m.\u001B[39mpredict(all_points)\u001B[38;5;241m.\u001B[39mcpu()\n\u001B[0;32m     33\u001B[0m coords \u001B[38;5;241m=\u001B[39m dim_reduc(n_components\u001B[38;5;241m=\u001B[39m\u001B[38;5;241m2\u001B[39m)\u001B[38;5;241m.\u001B[39mfit_transform(X\u001B[38;5;241m=\u001B[39mall_points)\n",
      "\u001B[1;31mTypeError\u001B[0m: expected Tensor as element 2 in argument 0, but got NoneType"
     ]
    }
   ],
   "source": [
    "plot_clusters(self, save_path=\"img/clusters\")"
   ],
   "metadata": {
    "collapsed": false
   }
  },
  {
   "cell_type": "code",
   "execution_count": 6,
   "outputs": [
    {
     "name": "stderr",
     "output_type": "stream",
     "text": [
      "C:\\Users\\jonas\\AppData\\Local\\Temp\\ipykernel_6132\\933180381.py:46: UserWarning: Matplotlib is currently using module://matplotlib_inline.backend_inline, which is a non-GUI backend, so cannot show the figure.\n",
      "  fig.show()\n"
     ]
    },
    {
     "ename": "IndexError",
     "evalue": "index 90 is out of bounds for axis 0 with size 14",
     "output_type": "error",
     "traceback": [
      "\u001B[1;31m---------------------------------------------------------------------------\u001B[0m",
      "\u001B[1;31mIndexError\u001B[0m                                Traceback (most recent call last)",
      "Cell \u001B[1;32mIn[6], line 3\u001B[0m\n\u001B[0;32m      1\u001B[0m \u001B[38;5;28;01mfrom\u001B[39;00m \u001B[38;5;21;01mclustering_wrappers\u001B[39;00m \u001B[38;5;28;01mimport\u001B[39;00m MeanShiftWrapper\n\u001B[1;32m----> 3\u001B[0m \u001B[43mplot_clusters\u001B[49m\u001B[43m(\u001B[49m\u001B[38;5;28;43mself\u001B[39;49m\u001B[43m,\u001B[49m\u001B[43m \u001B[49m\u001B[43mMeanShiftWrapper\u001B[49m\u001B[43m,\u001B[49m\u001B[43m \u001B[49m\u001B[43msave_path\u001B[49m\u001B[38;5;241;43m=\u001B[39;49m\u001B[38;5;124;43m\"\u001B[39;49m\u001B[38;5;124;43mimg/mean_shift_clusters\u001B[39;49m\u001B[38;5;124;43m\"\u001B[39;49m\u001B[43m,\u001B[49m\u001B[43m \u001B[49m\u001B[38;5;28;43mrange\u001B[39;49m\u001B[38;5;241;43m=\u001B[39;49m\u001B[38;5;241;43m0.1\u001B[39;49m\u001B[43m,\u001B[49m\u001B[43m \u001B[49m\u001B[43mdim_reduc\u001B[49m\u001B[38;5;241;43m=\u001B[39;49m\u001B[43mPCA\u001B[49m\u001B[43m)\u001B[49m\n",
      "Cell \u001B[1;32mIn[2], line 38\u001B[0m, in \u001B[0;36mplot_clusters\u001B[1;34m(self, cluster_alg, save_path, dim_reduc, **cluster_alg_kwargs)\u001B[0m\n\u001B[0;32m     35\u001B[0m fig, ax \u001B[38;5;241m=\u001B[39m plt\u001B[38;5;241m.\u001B[39msubplots()\n\u001B[0;32m     36\u001B[0m \u001B[38;5;66;03m# o p s\u001B[39;00m\n\u001B[0;32m     37\u001B[0m ax\u001B[38;5;241m.\u001B[39mscatter(coords[:num_train_nodes, \u001B[38;5;241m0\u001B[39m], coords[:num_train_nodes, \u001B[38;5;241m1\u001B[39m],\n\u001B[1;32m---> 38\u001B[0m            c\u001B[38;5;241m=\u001B[39m\u001B[38;5;28;43mself\u001B[39;49m\u001B[38;5;241;43m.\u001B[39;49m\u001B[43mcolors\u001B[49m\u001B[43m[\u001B[49m\u001B[43massignments\u001B[49m\u001B[43m[\u001B[49m\u001B[43m:\u001B[49m\u001B[43mnum_train_nodes\u001B[49m\u001B[43m]\u001B[49m\u001B[43m]\u001B[49m,\n\u001B[0;32m     39\u001B[0m            marker\u001B[38;5;241m=\u001B[39m\u001B[38;5;124m'\u001B[39m\u001B[38;5;124ms\u001B[39m\u001B[38;5;124m'\u001B[39m, s\u001B[38;5;241m=\u001B[39m\u001B[38;5;241m2\u001B[39m, label\u001B[38;5;241m=\u001B[39m\u001B[38;5;124m\"\u001B[39m\u001B[38;5;124mTrain embeddings\u001B[39m\u001B[38;5;124m\"\u001B[39m)\n\u001B[0;32m     40\u001B[0m ax\u001B[38;5;241m.\u001B[39mscatter(coords[num_train_nodes:num_nodes, \u001B[38;5;241m0\u001B[39m], coords[num_train_nodes:num_nodes, \u001B[38;5;241m1\u001B[39m],\n\u001B[0;32m     41\u001B[0m            c\u001B[38;5;241m=\u001B[39m\u001B[38;5;28mself\u001B[39m\u001B[38;5;241m.\u001B[39mcolors[assignments[num_train_nodes:num_nodes]],\n\u001B[0;32m     42\u001B[0m            marker\u001B[38;5;241m=\u001B[39m\u001B[38;5;124m'\u001B[39m\u001B[38;5;124mp\u001B[39m\u001B[38;5;124m'\u001B[39m, s\u001B[38;5;241m=\u001B[39m\u001B[38;5;241m2\u001B[39m, label\u001B[38;5;241m=\u001B[39m\u001B[38;5;124m\"\u001B[39m\u001B[38;5;124mTest embeddings\u001B[39m\u001B[38;5;124m\"\u001B[39m)\n\u001B[0;32m     43\u001B[0m ax\u001B[38;5;241m.\u001B[39mscatter(coords[num_nodes:, \u001B[38;5;241m0\u001B[39m], coords[num_nodes:, \u001B[38;5;241m1\u001B[39m],\n\u001B[0;32m     44\u001B[0m            c\u001B[38;5;241m=\u001B[39m\u001B[38;5;28mself\u001B[39m\u001B[38;5;241m.\u001B[39mcolors[assignments[num_nodes:]],\n\u001B[0;32m     45\u001B[0m            marker\u001B[38;5;241m=\u001B[39m\u001B[38;5;124m'\u001B[39m\u001B[38;5;124mo\u001B[39m\u001B[38;5;124m'\u001B[39m, s\u001B[38;5;241m=\u001B[39m\u001B[38;5;241m10\u001B[39m, label\u001B[38;5;241m=\u001B[39m\u001B[38;5;124m\"\u001B[39m\u001B[38;5;124mCentroids\u001B[39m\u001B[38;5;124m\"\u001B[39m)\n",
      "\u001B[1;31mIndexError\u001B[0m: index 90 is out of bounds for axis 0 with size 14"
     ]
    },
    {
     "data": {
      "text/plain": "<Figure size 640x480 with 1 Axes>",
      "image/png": "[encoded data removed]"
     },
     "metadata": {},
     "output_type": "display_data"
    },
    {
     "data": {
      "text/plain": "<Figure size 640x480 with 1 Axes>",
      "image/png": "[encoded data removed]"
     },
     "metadata": {},
     "output_type": "display_data"
    }
   ],
   "source": [
    "from clustering_wrappers import MeanShiftWrapper\n",
    "\n",
    "plot_clusters(self, MeanShiftWrapper, save_path=\"img/mean_shift_clusters\", range=0.1, dim_reduc=PCA)"
   ],
   "metadata": {
    "collapsed": false
   }
  },
  {
   "cell_type": "code",
   "execution_count": null,
   "outputs": [],
   "source": [
    "from typing import List\n",
    "\n",
    "\n",
    "# https://academic.oup.com/bioinformatics/article/37/15/2212/5962080\n",
    "def jaccard_index(assignment1: torch.Tensor, assignment2: torch.Tensor):\n",
    "    \"\"\"\n",
    "\n",
    "    :param assignment1: [num_points] (containing integer assignments {0, ..., num_clusters1 - 1})\n",
    "    :param assignment2: [num_points] (containing integer assignments {0, ..., num_clusters2 - 1})\n",
    "    :return: [num_clusters_1, num_clusters_2]\n",
    "    \"\"\"\n",
    "    num_clusters1 = torch.max(assignment1)\n",
    "    num_clusters2 = torch.max(assignment2)\n",
    "    # [num_points, num_clusters1] one-hot encoding\n",
    "    one_hot1 = assignment1[:, None] == torch.arange(num_clusters1)[None, :]\n",
    "    # [num_points, num_clusters1] one-hot encoding\n",
    "    one_hot2 = assignment2[:, None] == torch.arange(num_clusters2)[None, :]\n",
    "    # [num_clusters1, num_clusters2] produced from [num_points, num_clusters1, num_clusters2] where [i, j, k] == 1 iff. point i is member of cluster j in assignment1 and k in assignment 2\n",
    "    intersec = torch.sum(torch.logical_and(one_hot1[:, :, None], one_hot2[:, None, :]), dim=0)\n",
    "    union = torch.sum(torch.logical_or(one_hot1[:, :, None], one_hot2[:, None, :]), dim=0)\n",
    "    return intersec / union\n",
    "\n",
    "\n",
    "def jaccard_purity(samples: List[torch.Tensor]) -> float:\n",
    "    \"\"\"\n",
    "\n",
    "    :param samples: List with entries of size [num_points] that contain mapppings to clusters in form of integers\n",
    "    :return:\n",
    "    \"\"\"\n",
    "\n",
    "def jaccard_cluster_score(num_iterations=10, keep_prob=0.8):\n",
    "    return jaccard_purity([])\n",
    "\n"
   ],
   "metadata": {
    "collapsed": false
   }
  },
  {
   "cell_type": "code",
   "execution_count": 4,
   "outputs": [
    {
     "ename": "NotImplementedError",
     "evalue": "",
     "output_type": "error",
     "traceback": [
      "\u001B[1;31m---------------------------------------------------------------------------\u001B[0m",
      "\u001B[1;31mNotImplementedError\u001B[0m                       Traceback (most recent call last)",
      "Cell \u001B[1;32mIn[4], line 1\u001B[0m\n\u001B[1;32m----> 1\u001B[0m \u001B[43manalyzer\u001B[49m\u001B[38;5;241;43m.\u001B[39;49m\u001B[43mcalculate_concept_completeness\u001B[49m\u001B[43m(\u001B[49m\u001B[43m)\u001B[49m\n",
      "File \u001B[1;32m~\\OneDrive\\Dokumente\\Studium\\Master\\Project\\MPhilThesis\\analyzer.py:75\u001B[0m, in \u001B[0;36mAnalyzer.calculate_concept_completeness\u001B[1;34m(self)\u001B[0m\n\u001B[0;32m     73\u001B[0m         \u001B[38;5;28;01mraise\u001B[39;00m \u001B[38;5;167;01mNotImplementedError\u001B[39;00m()\n\u001B[0;32m     74\u001B[0m     \u001B[38;5;28;01melse\u001B[39;00m:\n\u001B[1;32m---> 75\u001B[0m         \u001B[38;5;28;01mraise\u001B[39;00m \u001B[38;5;167;01mNotImplementedError\u001B[39;00m()\n\u001B[0;32m     76\u001B[0m \u001B[38;5;28;01melse\u001B[39;00m:\n\u001B[0;32m     77\u001B[0m     \u001B[38;5;28;01mraise\u001B[39;00m \u001B[38;5;167;01mNotImplementedError\u001B[39;00m()\n",
      "\u001B[1;31mNotImplementedError\u001B[0m: "
     ]
    }
   ],
   "source": [
    "analyzer.calculate_concept_completeness()"
   ],
   "metadata": {
    "collapsed": false
   }
  },
  {
   "cell_type": "code",
   "execution_count": null,
   "outputs": [],
   "source": [],
   "metadata": {
    "collapsed": false
   }
  }
 ],
 "metadata": {
  "kernelspec": {
   "display_name": "Python 3",
   "language": "python",
   "name": "python3"
  },
  "language_info": {
   "codemirror_mode": {
    "name": "ipython",
    "version": 2
   },
   "file_extension": ".py",
   "mimetype": "text/x-python",
   "name": "python",
   "nbconvert_exporter": "python",
   "pygments_lexer": "ipython2",
   "version": "2.7.6"
  }
 },
 "nbformat": 4,
 "nbformat_minor": 0
}
